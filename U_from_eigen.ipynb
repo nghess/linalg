{
 "cells": [
  {
   "cell_type": "code",
   "execution_count": 146,
   "metadata": {},
   "outputs": [],
   "source": [
    "using LinearAlgebra"
   ]
  },
  {
   "cell_type": "code",
   "execution_count": 147,
   "metadata": {},
   "outputs": [
    {
     "data": {
      "text/plain": [
       "3×6 Matrix{Float64}:\n",
       " 0.131078   0.0570004  0.255049  0.495716  0.942103  0.919807\n",
       " 0.0170428  0.483751   0.157332  0.4263    0.855602  0.269619\n",
       " 0.395137   0.574704   0.52123   0.876933  0.157132  0.239077"
      ]
     },
     "metadata": {},
     "output_type": "display_data"
    }
   ],
   "source": [
    "m = 3\n",
    "n = 6\n",
    "A = rand(m,n)"
   ]
  },
  {
   "cell_type": "code",
   "execution_count": 148,
   "metadata": {},
   "outputs": [
    {
     "data": {
      "text/plain": [
       "SVD{Float64, Float64, Matrix{Float64}, Vector{Float64}}\n",
       "U factor:\n",
       "3×3 Matrix{Float64}:\n",
       " -0.674733   0.544333   0.498434\n",
       " -0.52526    0.120276  -0.842399\n",
       " -0.518495  -0.830202   0.204762\n",
       "singular values:\n",
       "3-element Vector{Float64}:\n",
       " 1.9718644434302008\n",
       " 0.8966494815448495\n",
       " 0.47653799739911984\n",
       "Vt factor:\n",
       "6×6 Matrix{Float64}:\n",
       " -0.153292  -0.299481  -0.266238  -0.513767   -0.5916     -0.449425\n",
       " -0.283994  -0.432622  -0.306666  -0.453826    0.541209    0.373198\n",
       "  0.276759  -0.548588   0.212611   0.14171    -0.45958     0.588181\n",
       " -0.398402  -0.287401  -0.497837   0.703875   -0.0534406  -0.111979\n",
       " -0.481381  -0.355295   0.734659   0.0669019   0.13148    -0.283816\n",
       " -0.654829   0.461917   0.048004  -0.100439   -0.354607    0.468714"
      ]
     },
     "metadata": {},
     "output_type": "display_data"
    }
   ],
   "source": [
    "Us, Es, Vs = svd(A, full=true)"
   ]
  },
  {
   "cell_type": "code",
   "execution_count": 149,
   "metadata": {},
   "outputs": [
    {
     "data": {
      "text/plain": [
       "Eigen{Float64, Float64, Matrix{Float64}, Vector{Float64}}\n",
       "values:\n",
       "6-element Vector{Float64}:\n",
       " -1.6354560136121285e-17\n",
       "  4.41101357517502e-17\n",
       "  4.3027445692790084e-16\n",
       "  0.22708846296516333\n",
       "  0.8039802927546479\n",
       "  3.8882493832642906\n",
       "vectors:\n",
       "6×6 Matrix{Float64}:\n",
       " -0.853431    0.200995    0.224742  -0.276759  -0.283994  -0.153292\n",
       " -0.161987   -0.073293   -0.624971   0.548588  -0.432622  -0.299481\n",
       "  0.0790145  -0.854037    0.232912  -0.212611  -0.306666  -0.266238\n",
       "  0.468737    0.472417    0.259058  -0.14171   -0.453826  -0.513767\n",
       " -0.139489   -0.0408996   0.353212   0.45958    0.541209  -0.5916\n",
       "  0.0         0.0        -0.559271  -0.588181   0.373198  -0.449425"
      ]
     },
     "metadata": {},
     "output_type": "display_data"
    }
   ],
   "source": [
    "A_val, A_vec = eigen(A'A)"
   ]
  },
  {
   "cell_type": "code",
   "execution_count": 150,
   "metadata": {},
   "outputs": [
    {
     "data": {
      "text/plain": [
       "3-element Vector{Float64}:\n",
       " 0.4765396101060225\n",
       " 0.89664931829562\n",
       " 1.971864599814095"
      ]
     },
     "metadata": {},
     "output_type": "display_data"
    }
   ],
   "source": [
    "A_val = sqrt.(round.(A_val[4:n], digits=5))"
   ]
  },
  {
   "cell_type": "code",
   "execution_count": 164,
   "metadata": {},
   "outputs": [
    {
     "data": {
      "text/plain": [
       "6×3 Matrix{Float64}:\n",
       " -0.276759  -0.283994  -0.153292\n",
       "  0.548588  -0.432622  -0.299481\n",
       " -0.212611  -0.306666  -0.266238\n",
       " -0.14171   -0.453826  -0.513767\n",
       "  0.45958    0.541209  -0.5916\n",
       " -0.588181   0.373198  -0.449425"
      ]
     },
     "metadata": {},
     "output_type": "display_data"
    }
   ],
   "source": [
    "A_vec = A_vec[:,4:6]"
   ]
  },
  {
   "cell_type": "code",
   "execution_count": 168,
   "metadata": {},
   "outputs": [
    {
     "data": {
      "text/plain": [
       "3×3 Matrix{Float64}:\n",
       " -0.498432   0.544333  -0.674733\n",
       "  0.842396   0.120276  -0.52526\n",
       " -0.204762  -0.830202  -0.518495"
      ]
     },
     "metadata": {},
     "output_type": "display_data"
    }
   ],
   "source": [
    "U = zeros(m,m)\n",
    "\n",
    "for ii in 1:length(A_val)\n",
    "    Ai = A * A_vec[:,ii] ./ A_val[ii]\n",
    "    U[:,ii] = Ai\n",
    "end\n",
    "\n",
    "U"
   ]
  },
  {
   "cell_type": "code",
   "execution_count": 161,
   "metadata": {},
   "outputs": [
    {
     "data": {
      "text/plain": [
       "3×3 Matrix{Float64}:\n",
       " -0.674733   0.544333   0.498434\n",
       " -0.52526    0.120276  -0.842399\n",
       " -0.518495  -0.830202   0.204762"
      ]
     },
     "metadata": {},
     "output_type": "display_data"
    }
   ],
   "source": [
    "Us"
   ]
  },
  {
   "cell_type": "code",
   "execution_count": null,
   "metadata": {},
   "outputs": [],
   "source": [
    "V = zeros(n,n)\n",
    "\n",
    "for ii in 1:length(A_val)\n",
    "    Ai = A * A_vec[:,ii] ./ A_val[ii]\n",
    "    U[:,ii] = Ai\n",
    "end\n"
   ]
  }
 ],
 "metadata": {
  "kernelspec": {
   "display_name": "Julia 1.9.3",
   "language": "julia",
   "name": "julia-1.9"
  },
  "language_info": {
   "file_extension": ".jl",
   "mimetype": "application/julia",
   "name": "julia",
   "version": "1.9.3"
  }
 },
 "nbformat": 4,
 "nbformat_minor": 2
}
