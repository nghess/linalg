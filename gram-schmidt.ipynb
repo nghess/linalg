{
 "cells": [
  {
   "cell_type": "code",
   "execution_count": 1,
   "metadata": {},
   "outputs": [],
   "source": [
    "using LinearAlgebra\n",
    "\n",
    "m = 100;\n",
    "\n",
    "A = round.(rand(m,m)*10);"
   ]
  },
  {
   "cell_type": "code",
   "execution_count": 2,
   "metadata": {},
   "outputs": [
    {
     "data": {
      "text/plain": [
       "gram_schmidt (generic function with 1 method)"
      ]
     },
     "metadata": {},
     "output_type": "display_data"
    }
   ],
   "source": [
    "function par_part(v, w)\n",
    "    # Map v to w then divide by magnitude of w\n",
    "    pp = (v'w / w'w) .* w\n",
    "    return pp\n",
    "end\n",
    "\n",
    "function gram_schmidt(matrix)\n",
    "\n",
    "    for i = 1:m\n",
    "        # Current column as vector\n",
    "        v = copy(matrix[:,i])\n",
    "\n",
    "        if i > 1\n",
    "            for k in i-1:-1:1\n",
    "                # Previous column as vector\n",
    "                w = matrix[:,k]\n",
    "                # Get parallel part of current column, with respect to previous column\n",
    "                v_wp = par_part(v, w)\n",
    "                # Subtract parallel part of previous column from current column to get orthogonal part\n",
    "                v -= v_wp\n",
    "            end    \n",
    "        end\n",
    "        # Normalize orthogonal vector and add to Q matrix\n",
    "        matrix[:,i] = v / norm(v)\n",
    "    end\n",
    "\n",
    "    return matrix\n",
    "end\n",
    "\n"
   ]
  },
  {
   "cell_type": "code",
   "execution_count": 3,
   "metadata": {},
   "outputs": [
    {
     "data": {
      "text/plain": [
       "100×100 Matrix{Float64}:\n",
       " 0.177836   -0.0394645   -0.132241     0.0608943  …   0.0871363    0.241888\n",
       " 0.0177836   0.186787    -0.00511099  -0.052146      -0.017863     0.179803\n",
       " 0.0711343  -0.0366881   -0.0224704    0.121039      -0.0406797   -0.0784968\n",
       " 0.142269   -0.125632     0.116848    -0.0453511      0.152948     0.168344\n",
       " 0.106701   -0.0027764    0.090254    -0.111519       0.0327912    0.0239178\n",
       " 0.0355671   0.00778384   0.179332     0.0926199  …   2.59503e-5  -0.0775352\n",
       " 0.106701   -0.0550322    0.109169     0.0919464      0.055535     0.0762944\n",
       " 0.0711343   0.0416956    0.177756    -0.12381        0.0902887   -0.119884\n",
       " 0.0355671   0.164551     0.0940122   -0.0430088     -0.143451    -0.0929855\n",
       " 0.106701    0.0494794   -0.0715352    0.114175       0.149197    -0.2093\n",
       " ⋮                                                ⋱               \n",
       " 0.0         0.0261279    0.219142     0.143823      -0.137424     0.176327\n",
       " 0.106701   -0.133416     0.0518164    0.15458       -0.0331945    0.0561254\n",
       " 0.124485    0.0794992   -0.0770515    0.109432       0.11764      0.00980701\n",
       " 0.0533507   0.116187    -0.0260062    0.130984      -0.154423    -0.0587912\n",
       " 0.0177836   0.108404     0.080411     0.167818   …  -0.0708749    0.00781266\n",
       " 0.0177836   0.212915     0.0711562   -0.0965216     -0.185872     0.0828433\n",
       " 0.0355671   0.0339117   -0.03015      0.0731293      0.0304162   -0.185267\n",
       " 0.0177836   0.239043     0.0616988    0.0486887      0.0630043    0.112027\n",
       " 0.124485   -0.0511403   -0.0297644    0.12421        0.0199432    0.0885069"
      ]
     },
     "metadata": {},
     "output_type": "display_data"
    }
   ],
   "source": [
    "Q = gram_schmidt(A)"
   ]
  },
  {
   "cell_type": "code",
   "execution_count": 4,
   "metadata": {},
   "outputs": [
    {
     "data": {
      "text/plain": [
       "100×100 Matrix{Int64}:\n",
       " 1  0  0  0  0  0  0  0  0  0  0  0  0  …  0  0  0  0  0  0  0  0  0  0  0  0\n",
       " 0  1  0  0  0  0  0  0  0  0  0  0  0     0  0  0  0  0  0  0  0  0  0  0  0\n",
       " 0  0  1  0  0  0  0  0  0  0  0  0  0     0  0  0  0  0  0  0  0  0  0  0  0\n",
       " 0  0  0  1  0  0  0  0  0  0  0  0  0     0  0  0  0  0  0  0  0  0  0  0  0\n",
       " 0  0  0  0  1  0  0  0  0  0  0  0  0     0  0  0  0  0  0  0  0  0  0  0  0\n",
       " 0  0  0  0  0  1  0  0  0  0  0  0  0  …  0  0  0  0  0  0  0  0  0  0  0  0\n",
       " 0  0  0  0  0  0  1  0  0  0  0  0  0     0  0  0  0  0  0  0  0  0  0  0  0\n",
       " 0  0  0  0  0  0  0  1  0  0  0  0  0     0  0  0  0  0  0  0  0  0  0  0  0\n",
       " 0  0  0  0  0  0  0  0  1  0  0  0  0     0  0  0  0  0  0  0  0  0  0  0  0\n",
       " 0  0  0  0  0  0  0  0  0  1  0  0  0     0  0  0  0  0  0  0  0  0  0  0  0\n",
       " ⋮              ⋮              ⋮        ⋱        ⋮              ⋮           \n",
       " 0  0  0  0  0  0  0  0  0  0  0  0  0     0  0  0  1  0  0  0  0  0  0  0  0\n",
       " 0  0  0  0  0  0  0  0  0  0  0  0  0     0  0  0  0  1  0  0  0  0  0  0  0\n",
       " 0  0  0  0  0  0  0  0  0  0  0  0  0     0  0  0  0  0  1  0  0  0  0  0  0\n",
       " 0  0  0  0  0  0  0  0  0  0  0  0  0     0  0  0  0  0  0  1  0  0  0  0  0\n",
       " 0  0  0  0  0  0  0  0  0  0  0  0  0  …  0  0  0  0  0  0  0  1  0  0  0  0\n",
       " 0  0  0  0  0  0  0  0  0  0  0  0  0     0  0  0  0  0  0  0  0  1  0  0  0\n",
       " 0  0  0  0  0  0  0  0  0  0  0  0  0     0  0  0  0  0  0  0  0  0  1  0  0\n",
       " 0  0  0  0  0  0  0  0  0  0  0  0  0     0  0  0  0  0  0  0  0  0  0  1  0\n",
       " 0  0  0  0  0  0  0  0  0  0  0  0  0     0  0  0  0  0  0  0  0  0  0  0  1"
      ]
     },
     "metadata": {},
     "output_type": "display_data"
    }
   ],
   "source": [
    "# Check if Q'Q = I\n",
    "Int.(round.(Q'Q))"
   ]
  },
  {
   "cell_type": "code",
   "execution_count": 5,
   "metadata": {},
   "outputs": [
    {
     "data": {
      "text/plain": [
       "true"
      ]
     },
     "metadata": {},
     "output_type": "display_data"
    }
   ],
   "source": [
    "# Test against built-in QR decomposition\n",
    "F = qr(A);\n",
    "\n",
    "abs.(round.(Q, digits=2)) == abs.(round.(F.Q, digits=2))"
   ]
  },
  {
   "cell_type": "markdown",
   "metadata": {},
   "source": [
    "## Inverse Via QR decomposition"
   ]
  },
  {
   "cell_type": "code",
   "execution_count": 6,
   "metadata": {},
   "outputs": [],
   "source": [
    "# Get R\n",
    "R = Q'A;"
   ]
  },
  {
   "cell_type": "code",
   "execution_count": 7,
   "metadata": {},
   "outputs": [
    {
     "data": {
      "text/plain": [
       "true"
      ]
     },
     "metadata": {},
     "output_type": "display_data"
    }
   ],
   "source": [
    "# Testing A = QR for fun\n",
    "round.(A, digits=3) == round.(Q*R, digits=3)"
   ]
  },
  {
   "cell_type": "code",
   "execution_count": 8,
   "metadata": {},
   "outputs": [],
   "source": [
    "A_inv = R^-1*Q';"
   ]
  },
  {
   "cell_type": "code",
   "execution_count": 9,
   "metadata": {},
   "outputs": [
    {
     "data": {
      "text/plain": [
       "true"
      ]
     },
     "metadata": {},
     "output_type": "display_data"
    }
   ],
   "source": [
    "# A^-1 \n",
    "round.(inv(A), digits=3) == round.(A_inv, digits=3)"
   ]
  },
  {
   "cell_type": "markdown",
   "metadata": {},
   "source": [
    "## Sherman-Morrison formula"
   ]
  },
  {
   "cell_type": "code",
   "execution_count": 10,
   "metadata": {},
   "outputs": [],
   "source": [
    "m = 5\n",
    "a = rand(m);\n",
    "b = rand(m);"
   ]
  },
  {
   "cell_type": "code",
   "execution_count": 11,
   "metadata": {},
   "outputs": [
    {
     "data": {
      "text/plain": [
       "5×5 Matrix{Float64}:\n",
       "  0.982953    -0.0263908   -0.11544     -0.119699   -0.106811\n",
       " -0.0364695    0.943541    -0.246965    -0.256076   -0.228505\n",
       " -0.00321223  -0.00497287   0.978247    -0.0225551  -0.0201267\n",
       " -0.00141249  -0.00218668  -0.00956509   0.990082   -0.00885013\n",
       " -0.03604     -0.0557938   -0.244056    -0.25306     0.774186"
      ]
     },
     "metadata": {},
     "output_type": "display_data"
    }
   ],
   "source": [
    "A = I(m) - a*b'"
   ]
  },
  {
   "cell_type": "code",
   "execution_count": 12,
   "metadata": {},
   "outputs": [
    {
     "data": {
      "text/plain": [
       "5×5 Matrix{Float64}:\n",
       " 1.02548     0.0394475   0.172554   0.178919   0.159656\n",
       " 0.0545127   1.08439     0.36915    0.382768   0.341557\n",
       " 0.00480147  0.00743318  1.03251    0.0337142  0.0300843\n",
       " 0.00211131  0.00326853  0.0142974  1.01482    0.0132287\n",
       " 0.0538707   0.0833975   0.364802   0.378261   1.33753"
      ]
     },
     "metadata": {},
     "output_type": "display_data"
    }
   ],
   "source": [
    "A_inv = I(m) + (a*b')/(1-a'b)"
   ]
  },
  {
   "cell_type": "code",
   "execution_count": 13,
   "metadata": {},
   "outputs": [
    {
     "data": {
      "text/plain": [
       "5×5 Matrix{Float64}:\n",
       " 1.0  0.0  0.0  0.0  0.0\n",
       " 0.0  1.0  0.0  0.0  0.0\n",
       " 0.0  0.0  1.0  0.0  0.0\n",
       " 0.0  0.0  0.0  1.0  0.0\n",
       " 0.0  0.0  0.0  0.0  1.0"
      ]
     },
     "metadata": {},
     "output_type": "display_data"
    }
   ],
   "source": [
    "round.(abs.(A*A_inv))"
   ]
  },
  {
   "cell_type": "markdown",
   "metadata": {},
   "source": [
    "## A'A == R'R"
   ]
  },
  {
   "cell_type": "code",
   "execution_count": 14,
   "metadata": {},
   "outputs": [
    {
     "data": {
      "text/plain": [
       "5×5 Matrix{Float64}:\n",
       " 0.904671  0.574239  0.922944  0.276952  0.935443\n",
       " 0.320396  0.948513  0.796817  0.322742  0.248688\n",
       " 0.173036  0.720581  0.422534  0.234014  0.0695985\n",
       " 0.445189  0.270391  0.296728  0.603514  0.478212\n",
       " 0.592059  0.664268  0.971452  0.552025  0.412144"
      ]
     },
     "metadata": {},
     "output_type": "display_data"
    }
   ],
   "source": [
    "A = rand(m, m)"
   ]
  },
  {
   "cell_type": "code",
   "execution_count": 15,
   "metadata": {},
   "outputs": [
    {
     "data": {
      "text/plain": [
       "LinearAlgebra.QRCompactWY{Float64, Matrix{Float64}, Matrix{Float64}}\n",
       "Q factor:\n",
       "5×5 LinearAlgebra.QRCompactWYQ{Float64, Matrix{Float64}, Matrix{Float64}}:\n",
       " -0.738722   0.33585    -0.090793    0.577201   -0.00950471\n",
       " -0.261624  -0.694883    0.0856455   0.0720866  -0.660423\n",
       " -0.141295  -0.602806   -0.431046    0.11276     0.646642\n",
       " -0.363526   0.178588   -0.595618   -0.666048   -0.19384\n",
       " -0.483454  -0.0952524   0.666228   -0.453109    0.328681\n",
       "R factor:\n",
       "5×5 Matrix{Float64}:\n",
       " -1.22464  -1.19361   -1.52749   -0.808364   -1.13902\n",
       "  0.0      -0.915603  -0.53797   -0.217119    0.145551\n",
       "  0.0       0.0        0.272788  -0.0900636  -0.103882\n",
       "  0.0       0.0        0.0       -0.442587    0.0604555\n",
       "  0.0       0.0        0.0        0.0        -0.0853577"
      ]
     },
     "metadata": {},
     "output_type": "display_data"
    }
   ],
   "source": [
    "decomp = qr(A)"
   ]
  },
  {
   "cell_type": "code",
   "execution_count": 16,
   "metadata": {},
   "outputs": [
    {
     "data": {
      "text/plain": [
       "5×5 Matrix{Float64}:\n",
       " 1.49975   1.46174  1.87063  0.989957  1.3949\n",
       " 1.46174   2.26303  2.31579  1.16366   1.22628\n",
       " 1.87063   2.31579  2.69704  1.327     1.63321\n",
       " 0.989957  1.16366  1.327    0.904588  0.871743\n",
       " 1.3949    1.22628  1.63321  0.871743  1.34029"
      ]
     },
     "metadata": {},
     "output_type": "display_data"
    }
   ],
   "source": [
    "decomp.R'decomp.R"
   ]
  },
  {
   "cell_type": "code",
   "execution_count": 17,
   "metadata": {},
   "outputs": [
    {
     "data": {
      "text/plain": [
       "5×5 Matrix{Float64}:\n",
       " 1.49975   1.46174  1.87063  0.989957  1.3949\n",
       " 1.46174   2.26303  2.31579  1.16366   1.22628\n",
       " 1.87063   2.31579  2.69704  1.327     1.63321\n",
       " 0.989957  1.16366  1.327    0.904588  0.871743\n",
       " 1.3949    1.22628  1.63321  0.871743  1.34029"
      ]
     },
     "metadata": {},
     "output_type": "display_data"
    }
   ],
   "source": [
    "A'A"
   ]
  },
  {
   "cell_type": "code",
   "execution_count": 18,
   "metadata": {},
   "outputs": [
    {
     "data": {
      "text/plain": [
       "true"
      ]
     },
     "metadata": {},
     "output_type": "display_data"
    }
   ],
   "source": [
    "round.(decomp.R'decomp.R, digits = 4) == round.(A'A, digits = 4)"
   ]
  },
  {
   "cell_type": "code",
   "execution_count": 19,
   "metadata": {},
   "outputs": [
    {
     "data": {
      "text/plain": [
       "5×5 Matrix{Float64}:\n",
       "  1.0          5.55112e-17  6.93889e-17   0.0          4.85723e-17\n",
       "  0.0          1.0          4.16334e-17  -5.55112e-17  0.0\n",
       " -2.77556e-17  0.0          1.0           1.52656e-16  3.33067e-16\n",
       "  1.11022e-16  0.0          1.11022e-16   1.0          0.0\n",
       "  5.55112e-17  1.11022e-16  1.11022e-16  -1.11022e-16  1.0"
      ]
     },
     "metadata": {},
     "output_type": "display_data"
    }
   ],
   "source": [
    "decomp.Q'decomp.Q"
   ]
  },
  {
   "cell_type": "markdown",
   "metadata": {},
   "source": [
    "## Least Squares via RREF"
   ]
  },
  {
   "cell_type": "code",
   "execution_count": 23,
   "metadata": {},
   "outputs": [
    {
     "data": {
      "text/plain": [
       "3"
      ]
     },
     "metadata": {},
     "output_type": "display_data"
    }
   ],
   "source": [
    "m = 10\n",
    "n = 3"
   ]
  },
  {
   "cell_type": "code",
   "execution_count": 24,
   "metadata": {},
   "outputs": [
    {
     "data": {
      "text/plain": [
       "10×1 Matrix{Float64}:\n",
       " -0.2199921395118592\n",
       "  0.7625898981359973\n",
       "  0.6067605671204026\n",
       " -0.23240642353312665\n",
       "  0.30881582106306105\n",
       " -0.27144357046779083\n",
       " -0.0797362604196493\n",
       "  0.36372571938262854\n",
       " -1.8635071213787948\n",
       "  2.2030366320146615"
      ]
     },
     "metadata": {},
     "output_type": "display_data"
    }
   ],
   "source": [
    "X = randn(m,n)\n",
    "y = randn(m,1) "
   ]
  },
  {
   "cell_type": "code",
   "execution_count": 26,
   "metadata": {},
   "outputs": [
    {
     "data": {
      "text/plain": [
       "10×4 Matrix{Float64}:\n",
       " 1.0  0.0  0.0  0.0\n",
       " 0.0  1.0  0.0  0.0\n",
       " 0.0  0.0  1.0  0.0\n",
       " 0.0  0.0  0.0  1.0\n",
       " 0.0  0.0  0.0  0.0\n",
       " 0.0  0.0  0.0  0.0\n",
       " 0.0  0.0  0.0  0.0\n",
       " 0.0  0.0  0.0  0.0\n",
       " 0.0  0.0  0.0  0.0\n",
       " 0.0  0.0  0.0  0.0"
      ]
     },
     "metadata": {},
     "output_type": "display_data"
    }
   ],
   "source": [
    "using RowEchelon\n",
    "\n",
    "rref([X y])"
   ]
  },
  {
   "cell_type": "code",
   "execution_count": 35,
   "metadata": {},
   "outputs": [
    {
     "data": {
      "text/plain": [
       "3×4 Matrix{Float64}:\n",
       " 1.0  0.0  0.0  -0.0106386\n",
       " 0.0  1.0  0.0   0.512908\n",
       " 0.0  0.0  1.0   0.157001"
      ]
     },
     "metadata": {},
     "output_type": "display_data"
    }
   ],
   "source": [
    "# Reapply using the normal equation\n",
    "betas1 = rref([X'X X'y])"
   ]
  },
  {
   "cell_type": "code",
   "execution_count": 36,
   "metadata": {},
   "outputs": [
    {
     "data": {
      "text/plain": [
       "3×1 Matrix{Float64}:\n",
       " -0.01063857645579934\n",
       "  0.5129079015258228\n",
       "  0.15700055826260223"
      ]
     },
     "metadata": {},
     "output_type": "display_data"
    }
   ],
   "source": [
    "# Compare to left-inverse\n",
    "betas2 = (X'X)\\(X'y)"
   ]
  },
  {
   "cell_type": "code",
   "execution_count": 37,
   "metadata": {},
   "outputs": [
    {
     "data": {
      "text/plain": [
       "3×1 Matrix{Float64}:\n",
       " -0.0106385764557996\n",
       "  0.5129079015258227\n",
       "  0.15700055826260226"
      ]
     },
     "metadata": {},
     "output_type": "display_data"
    }
   ],
   "source": [
    "betas3 = X\\y"
   ]
  }
 ],
 "metadata": {
  "kernelspec": {
   "display_name": "Julia 1.9.3",
   "language": "julia",
   "name": "julia-1.9"
  },
  "language_info": {
   "file_extension": ".jl",
   "mimetype": "application/julia",
   "name": "julia",
   "version": "1.9.3"
  }
 },
 "nbformat": 4,
 "nbformat_minor": 2
}
