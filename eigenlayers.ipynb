{
 "cells": [
  {
   "cell_type": "code",
   "execution_count": 21,
   "metadata": {},
   "outputs": [],
   "source": [
    "using LinearAlgebra\n",
    "using Plots\n",
    "using FileIO"
   ]
  },
  {
   "cell_type": "code",
   "execution_count": 22,
   "metadata": {},
   "outputs": [
    {
     "data": {
      "text/plain": [
       "Eigen{Float64, Float64, Matrix{Float64}, Vector{Float64}}\n",
       "values:\n",
       "5-element Vector{Float64}:\n",
       " -0.8162463480402122\n",
       " -0.5188272758199919\n",
       "  0.2718694821052213\n",
       "  0.7877119773579085\n",
       "  3.1295283531912834\n",
       "vectors:\n",
       "5×5 Matrix{Float64}:\n",
       " -0.023622   0.378633   -0.766798   -0.0869349  -0.510433\n",
       " -0.26208   -0.812394   -0.0555428  -0.217605   -0.469993\n",
       " -0.242495   0.410528    0.510461   -0.627366   -0.344243\n",
       "  0.860711  -0.0546101   0.234439    0.0658111  -0.443735\n",
       " -0.362116   0.15855     0.305619    0.73971    -0.450732"
      ]
     },
     "metadata": {},
     "output_type": "display_data"
    }
   ],
   "source": [
    "# Create symmetric matrix A and take its eigendecomposition\n",
    "m = 5\n",
    "A = Symmetric(rand(m,m))\n",
    "Ae = eigen(A)"
   ]
  },
  {
   "cell_type": "code",
   "execution_count": 23,
   "metadata": {},
   "outputs": [
    {
     "data": {
      "text/plain": [
       "0.9999999999999999"
      ]
     },
     "metadata": {},
     "output_type": "display_data"
    }
   ],
   "source": [
    "# Check out the norm of one of the eigenvectors\n",
    "eig_norm = sqrt(Ae.vectors[:,3]'Ae.vectors[:,3])"
   ]
  },
  {
   "cell_type": "code",
   "execution_count": 24,
   "metadata": {},
   "outputs": [
    {
     "data": {
      "text/plain": [
       "5×5 Symmetric{Float64, Matrix{Float64}}:\n",
       " 0.906345  0.931793  0.401124   0.682773  0.567511\n",
       " 0.931793  0.33095   0.727321   0.798958  0.520918\n",
       " 0.401124  0.727321  0.616297   0.660054  0.0569973\n",
       " 0.682773  0.798958  0.660054   0.028319  0.942648\n",
       " 0.567511  0.520918  0.0569973  0.942648  0.972125"
      ]
     },
     "metadata": {},
     "output_type": "display_data"
    }
   ],
   "source": [
    "A"
   ]
  },
  {
   "cell_type": "code",
   "execution_count": 25,
   "metadata": {},
   "outputs": [
    {
     "data": {
      "text/plain": [
       "5×5 Matrix{Float64}:\n",
       " 0.906345  0.931793  0.401124   0.682773  0.567511\n",
       " 0.931793  0.33095   0.727321   0.798958  0.520918\n",
       " 0.401124  0.727321  0.616297   0.660054  0.0569973\n",
       " 0.682773  0.798958  0.660054   0.028319  0.942648\n",
       " 0.567511  0.520918  0.0569973  0.942648  0.972125"
      ]
     },
     "metadata": {},
     "output_type": "display_data"
    }
   ],
   "source": [
    "# Matrix-level reconstruction of A\n",
    "Ar = Ae.vectors * Diagonal(Ae.values) * Ae.vectors'"
   ]
  },
  {
   "cell_type": "code",
   "execution_count": 26,
   "metadata": {},
   "outputs": [],
   "source": [
    "# Vector-level reconstruction of A\n",
    "\n",
    "layers = []\n",
    "\n",
    "for ii in 1:m\n",
    "    layer = Ae.vectors[:,ii] .* Ae.values[ii] * Ae.vectors[:,ii]'\n",
    "    push!(layers, layer)\n",
    "end"
   ]
  },
  {
   "cell_type": "code",
   "execution_count": 28,
   "metadata": {},
   "outputs": [],
   "source": [
    "rebuild = zeros(m,m)\n",
    "\n",
    "for layer in layers\n",
    "    rebuild += layer\n",
    "end"
   ]
  },
  {
   "cell_type": "code",
   "execution_count": 29,
   "metadata": {},
   "outputs": [
    {
     "data": {
      "text/plain": [
       "5×5 Matrix{Float64}:\n",
       " 0.906345  0.931793  0.401124   0.682773  0.567511\n",
       " 0.931793  0.33095   0.727321   0.798958  0.520918\n",
       " 0.401124  0.727321  0.616297   0.660054  0.0569973\n",
       " 0.682773  0.798958  0.660054   0.028319  0.942648\n",
       " 0.567511  0.520918  0.0569973  0.942648  0.972125"
      ]
     },
     "metadata": {},
     "output_type": "display_data"
    }
   ],
   "source": [
    "rebuild"
   ]
  },
  {
   "cell_type": "code",
   "execution_count": 30,
   "metadata": {},
   "outputs": [
    {
     "name": "stdout",
     "output_type": "stream",
     "text": [
      "0.8162463480402121\n",
      "-0.8162463480402122\n"
     ]
    }
   ],
   "source": [
    "# Check out norm of a single layer. It matches the eigenvalue that created it! I mean duh, since ||eigenvector|| = 1\n",
    "idx = 1\n",
    "norm = sqrt(tr(layers[idx]'layers[idx]))\n",
    "println(norm)\n",
    "println(Ae.values[idx])"
   ]
  }
 ],
 "metadata": {
  "kernelspec": {
   "display_name": "Julia 1.9.3",
   "language": "julia",
   "name": "julia-1.9"
  },
  "language_info": {
   "file_extension": ".jl",
   "mimetype": "application/julia",
   "name": "julia",
   "version": "1.9.3"
  }
 },
 "nbformat": 4,
 "nbformat_minor": 2
}
