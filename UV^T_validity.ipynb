{
 "cells": [
  {
   "cell_type": "code",
   "execution_count": 17,
   "metadata": {},
   "outputs": [],
   "source": [
    "using LinearAlgebra"
   ]
  },
  {
   "cell_type": "code",
   "execution_count": 18,
   "metadata": {},
   "outputs": [
    {
     "data": {
      "text/plain": [
       "4×4 Matrix{Float64}:\n",
       " 0.678992  0.875604  0.362703  0.22343\n",
       " 0.689702  0.676655  0.245115  0.5629\n",
       " 0.898326  0.99225   0.941942  0.318634\n",
       " 0.905348  0.580243  0.96193   0.65506"
      ]
     },
     "metadata": {},
     "output_type": "display_data"
    }
   ],
   "source": [
    "A = rand(4,4)"
   ]
  },
  {
   "cell_type": "code",
   "execution_count": 19,
   "metadata": {},
   "outputs": [
    {
     "data": {
      "text/plain": [
       "2.830328135691181"
      ]
     },
     "metadata": {},
     "output_type": "display_data"
    }
   ],
   "source": [
    "norm(A)"
   ]
  },
  {
   "cell_type": "code",
   "execution_count": 20,
   "metadata": {},
   "outputs": [
    {
     "data": {
      "text/plain": [
       "4×4 Matrix{Float64}:\n",
       " 0.239899  0.309365  0.128149   0.0789413\n",
       " 0.243683  0.239073  0.0866029  0.198882\n",
       " 0.317393  0.350578  0.332803   0.112578\n",
       " 0.319874  0.205009  0.339865   0.231443"
      ]
     },
     "metadata": {},
     "output_type": "display_data"
    }
   ],
   "source": [
    "A = A ./ norm(A)"
   ]
  },
  {
   "cell_type": "code",
   "execution_count": 21,
   "metadata": {},
   "outputs": [
    {
     "data": {
      "text/plain": [
       "1.0"
      ]
     },
     "metadata": {},
     "output_type": "display_data"
    }
   ],
   "source": [
    "norm(A)"
   ]
  },
  {
   "cell_type": "code",
   "execution_count": 22,
   "metadata": {},
   "outputs": [
    {
     "data": {
      "text/plain": [
       "SVD{Float64, Float64, Matrix{Float64}, Vector{Float64}}\n",
       "U factor:\n",
       "4×4 Matrix{Float64}:\n",
       " -0.414694  -0.609572   -0.168857  -0.65417\n",
       " -0.394285  -0.372505    0.734708   0.40741\n",
       " -0.599892   0.0140644  -0.605012   0.523348\n",
       " -0.559194   0.699617    0.256228  -0.363572\n",
       "singular values:\n",
       "4-element Vector{Float64}:\n",
       " 0.970179221150754\n",
       " 0.1895791289024971\n",
       " 0.1507091905459681\n",
       " 0.009938441370026078\n",
       "Vt factor:\n",
       "4×4 Matrix{Float64}:\n",
       " -0.5822     -0.564332  -0.491646  -0.317579\n",
       " -0.0461835  -0.681919   0.696703   0.217852\n",
       "  0.188848   -0.239961  -0.479585   0.82265\n",
       " -0.78946     0.398667   0.207093   0.418247"
      ]
     },
     "metadata": {},
     "output_type": "display_data"
    }
   ],
   "source": [
    "U, E, V = svd(A)"
   ]
  },
  {
   "cell_type": "code",
   "execution_count": 23,
   "metadata": {},
   "outputs": [
    {
     "data": {
      "text/plain": [
       "2.0"
      ]
     },
     "metadata": {},
     "output_type": "display_data"
    }
   ],
   "source": [
    "norm(U)"
   ]
  },
  {
   "cell_type": "code",
   "execution_count": 24,
   "metadata": {},
   "outputs": [
    {
     "data": {
      "text/plain": [
       "1.9999999999999998"
      ]
     },
     "metadata": {},
     "output_type": "display_data"
    }
   ],
   "source": [
    "norm(V)"
   ]
  },
  {
   "cell_type": "code",
   "execution_count": 25,
   "metadata": {},
   "outputs": [
    {
     "data": {
      "text/plain": [
       "4×4 Matrix{Float64}:\n",
       "  0.75414    0.429427  -0.2753    -0.413613\n",
       "  0.06387    0.462646  -0.33366    0.818872\n",
       " -0.17881    0.682768   0.703269  -0.085247\n",
       "  0.628666  -0.36794    0.564175   0.388724"
      ]
     },
     "metadata": {},
     "output_type": "display_data"
    }
   ],
   "source": [
    "UVt = U*V'"
   ]
  },
  {
   "cell_type": "code",
   "execution_count": 26,
   "metadata": {},
   "outputs": [
    {
     "data": {
      "text/plain": [
       "1.9999999999999998"
      ]
     },
     "metadata": {},
     "output_type": "display_data"
    }
   ],
   "source": [
    "norm(UVt, 2)"
   ]
  },
  {
   "cell_type": "code",
   "execution_count": 27,
   "metadata": {},
   "outputs": [
    {
     "data": {
      "text/plain": [
       "4×4 Diagonal{Float64, Vector{Float64}}:\n",
       " 0.970179   ⋅         ⋅         ⋅ \n",
       "  ⋅        0.189579   ⋅         ⋅ \n",
       "  ⋅         ⋅        0.150709   ⋅ \n",
       "  ⋅         ⋅         ⋅        0.00993844"
      ]
     },
     "metadata": {},
     "output_type": "display_data"
    }
   ],
   "source": [
    "E = Diagonal(E)"
   ]
  },
  {
   "cell_type": "code",
   "execution_count": 28,
   "metadata": {},
   "outputs": [
    {
     "data": {
      "text/plain": [
       "4×4 Matrix{Float64}:\n",
       " 0.239899  0.309365  0.128149   0.0789413\n",
       " 0.243683  0.239073  0.0866029  0.198882\n",
       " 0.317393  0.350578  0.332803   0.112578\n",
       " 0.319874  0.205009  0.339865   0.231443"
      ]
     },
     "metadata": {},
     "output_type": "display_data"
    }
   ],
   "source": [
    "UEVt = U*E*V'"
   ]
  },
  {
   "cell_type": "code",
   "execution_count": 29,
   "metadata": {},
   "outputs": [
    {
     "data": {
      "text/plain": [
       "1.0000000000000002"
      ]
     },
     "metadata": {},
     "output_type": "display_data"
    }
   ],
   "source": [
    "norm(UEVt)"
   ]
  },
  {
   "cell_type": "code",
   "execution_count": 30,
   "metadata": {},
   "outputs": [
    {
     "data": {
      "text/plain": [
       "4×4 Matrix{Float64}:\n",
       " 1.0          4.88507e-16  4.23375e-17  6.66315e-16\n",
       " 4.88507e-16  1.0          1.43129e-16  2.60865e-16\n",
       " 4.23375e-17  1.43129e-16  1.0          6.49503e-16\n",
       " 6.66315e-16  2.60865e-16  6.49503e-16  1.0"
      ]
     },
     "metadata": {},
     "output_type": "display_data"
    }
   ],
   "source": [
    "U*U'"
   ]
  },
  {
   "cell_type": "code",
   "execution_count": 31,
   "metadata": {},
   "outputs": [
    {
     "data": {
      "text/plain": [
       "4×4 Matrix{Float64}:\n",
       "  1.0          -1.8074e-16   -1.37102e-16  -1.93856e-16\n",
       " -1.8074e-16    1.0           6.42398e-17   1.10941e-16\n",
       " -1.37102e-16   6.42398e-17   1.0           1.54024e-16\n",
       " -1.93856e-16   1.10941e-16   1.54024e-16   1.0"
      ]
     },
     "metadata": {},
     "output_type": "display_data"
    }
   ],
   "source": [
    "V*V'"
   ]
  },
  {
   "cell_type": "code",
   "execution_count": 32,
   "metadata": {},
   "outputs": [
    {
     "data": {
      "text/plain": [
       "4×4 Matrix{Float64}:\n",
       "  0.75414    0.429427  -0.2753    -0.413613\n",
       "  0.06387    0.462646  -0.33366    0.818872\n",
       " -0.17881    0.682768   0.703269  -0.085247\n",
       "  0.628666  -0.36794    0.564175   0.388724"
      ]
     },
     "metadata": {},
     "output_type": "display_data"
    }
   ],
   "source": [
    "U*V'"
   ]
  },
  {
   "cell_type": "code",
   "execution_count": 33,
   "metadata": {},
   "outputs": [
    {
     "name": "stdout",
     "output_type": "stream",
     "text": [
      "2-Norm of U: 1.7320508075688772\n",
      "2-Norm of V: 1.732050807568877\n"
     ]
    }
   ],
   "source": [
    "using LinearAlgebra\n",
    "\n",
    "A = rand(3, 3)  # Example matrix\n",
    "U, S, V = svd(A)\n",
    "\n",
    "# Checking the L2 operator norm (2-norm) of U and V\n",
    "norm_U = norm(U, 2)\n",
    "norm_V = norm(V, 2)\n",
    "\n",
    "println(\"2-Norm of U: $norm_U\")\n",
    "println(\"2-Norm of V: $norm_V\")\n"
   ]
  },
  {
   "cell_type": "code",
   "execution_count": 34,
   "metadata": {},
   "outputs": [
    {
     "data": {
      "text/plain": [
       "4×4 Matrix{Float64}:\n",
       " 0.233927  0.221917  0.219119  0.358884\n",
       " 0.228112  0.277717  0.69702   0.076477\n",
       " 0.108273  0.967001  0.667926  0.879634\n",
       " 0.370189  0.392605  0.500712  0.393196"
      ]
     },
     "metadata": {},
     "output_type": "display_data"
    }
   ],
   "source": [
    "A = rand(4,4)"
   ]
  },
  {
   "cell_type": "code",
   "execution_count": 35,
   "metadata": {},
   "outputs": [
    {
     "data": {
      "text/plain": [
       "SVD{Float64, Float64, Matrix{Float64}, Vector{Float64}}\n",
       "U factor:\n",
       "4×4 Matrix{Float64}:\n",
       " -0.269491  -0.0266943  -0.646481  -0.713249\n",
       " -0.352101   0.802924    0.403104  -0.262383\n",
       " -0.782851  -0.516849    0.346425   0.00113646\n",
       " -0.436513   0.29575    -0.54732    0.649945\n",
       "singular values:\n",
       "4-element Vector{Float64}:\n",
       " 1.842080533898635\n",
       " 0.5386784055038635\n",
       " 0.28285186014491615\n",
       " 0.037092263223850785\n",
       "Vt factor:\n",
       "4×4 Matrix{Float64}:\n",
       " -0.211562  -0.589542  -0.567796  -0.534125\n",
       "  0.427778  -0.30931    0.662126  -0.531904\n",
       " -0.793276   0.313227   0.341707  -0.394764\n",
       "  0.378102   0.677242  -0.349904  -0.525309"
      ]
     },
     "metadata": {},
     "output_type": "display_data"
    }
   ],
   "source": [
    "svd(A)"
   ]
  },
  {
   "cell_type": "code",
   "execution_count": 37,
   "metadata": {},
   "outputs": [
    {
     "data": {
      "text/plain": [
       "LinearAlgebra.QRCompactWY{Float64, Matrix{Float64}, Matrix{Float64}}\n",
       "Q factor:\n",
       "4×4 LinearAlgebra.QRCompactWYQ{Float64, Matrix{Float64}, Matrix{Float64}}:\n",
       " -0.462773  -0.135123    0.401852   -0.778523\n",
       " -0.45127   -0.0581271  -0.873606   -0.172597\n",
       " -0.214195   0.975417    0.0490354  -0.0166636\n",
       " -0.732337  -0.164087    0.270043    0.603187\n",
       "R factor:\n",
       "4×4 Matrix{Float64}:\n",
       " -0.50549  -0.722669  -0.925702  -0.676958\n",
       "  0.0       0.832679   0.499222   0.740553\n",
       "  0.0       0.0       -0.352901   0.22672\n",
       "  0.0       0.0        0.0       -0.0700869"
      ]
     },
     "metadata": {},
     "output_type": "display_data"
    }
   ],
   "source": [
    "Q, R = qr(A)"
   ]
  },
  {
   "cell_type": "code",
   "execution_count": 38,
   "metadata": {},
   "outputs": [
    {
     "data": {
      "text/plain": [
       "SVD{Float64, Float64, Matrix{Float64}, Vector{Float64}}\n",
       "U factor:\n",
       "4×4 Matrix{Float64}:\n",
       " -0.462773  -0.404437  -0.457364  -0.642721\n",
       " -0.45127   -0.651014   0.249502   0.557032\n",
       " -0.214195   0.295696  -0.773261   0.518413\n",
       " -0.732337   0.570241   0.361434  -0.0887288\n",
       "singular values:\n",
       "4-element Vector{Float64}:\n",
       " 1.0\n",
       " 1.0\n",
       " 1.0\n",
       " 1.0\n",
       "Vt factor:\n",
       "4×4 Matrix{Float64}:\n",
       "  1.0   0.0        0.0       0.0\n",
       " -0.0   0.287348   0.574696  0.766261\n",
       " -0.0  -0.766261  -0.342073  0.543903\n",
       "  0.0   0.574696  -0.743445  0.342073"
      ]
     },
     "metadata": {},
     "output_type": "display_data"
    }
   ],
   "source": [
    "svd(Q)"
   ]
  }
 ],
 "metadata": {
  "kernelspec": {
   "display_name": "Julia 1.9.3",
   "language": "julia",
   "name": "julia-1.9"
  },
  "language_info": {
   "file_extension": ".jl",
   "mimetype": "application/julia",
   "name": "julia",
   "version": "1.9.3"
  }
 },
 "nbformat": 4,
 "nbformat_minor": 2
}
