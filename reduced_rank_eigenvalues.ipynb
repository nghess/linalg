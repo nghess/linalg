{
 "cells": [
  {
   "cell_type": "code",
   "execution_count": 30,
   "metadata": {},
   "outputs": [],
   "source": [
    "using LinearAlgebra"
   ]
  },
  {
   "cell_type": "code",
   "execution_count": 31,
   "metadata": {},
   "outputs": [
    {
     "data": {
      "text/plain": [
       "Eigen{ComplexF64, ComplexF64, Matrix{ComplexF64}, Vector{ComplexF64}}\n",
       "values:\n",
       "5-element Vector{ComplexF64}:\n",
       " -0.7409654712495792 + 0.0im\n",
       " 0.10936901603239133 - 0.25438128268447885im\n",
       " 0.10936901603239133 + 0.25438128268447885im\n",
       "  0.6865511196441447 + 0.0im\n",
       "  2.8378853010790306 + 0.0im\n",
       "vectors:\n",
       "5×5 Matrix{ComplexF64}:\n",
       "  0.222452+0.0im   0.687231-0.0im       …   0.139661+0.0im  0.388806+0.0im\n",
       "  0.106036+0.0im  -0.312739+0.188826im     -0.671749+0.0im   0.42376+0.0im\n",
       "  -0.46214+0.0im  -0.189625+0.394604im      0.694648+0.0im  0.433491+0.0im\n",
       " -0.387016+0.0im   0.130199-0.312062im     -0.200061+0.0im  0.581208+0.0im\n",
       "  0.758892+0.0im  -0.263406-0.137351im     0.0817846+0.0im  0.378868+0.0im"
      ]
     },
     "metadata": {},
     "output_type": "display_data"
    }
   ],
   "source": [
    "A = rand(5,5)\n",
    "\n",
    "A_val, A_vec = eigen(A) "
   ]
  },
  {
   "cell_type": "code",
   "execution_count": 32,
   "metadata": {},
   "outputs": [
    {
     "data": {
      "text/plain": [
       "3.002208981538379"
      ]
     },
     "metadata": {},
     "output_type": "display_data"
    }
   ],
   "source": [
    "# Check trace of A\n",
    "tr(A)"
   ]
  },
  {
   "cell_type": "code",
   "execution_count": 33,
   "metadata": {},
   "outputs": [
    {
     "data": {
      "text/plain": [
       "3.002208981538379 + 0.0im"
      ]
     },
     "metadata": {},
     "output_type": "display_data"
    }
   ],
   "source": [
    "# Check sum of eigenvalues of A\n",
    "sum(A_val)"
   ]
  },
  {
   "cell_type": "markdown",
   "metadata": {},
   "source": [
    "^ All complex valued eigenvalues come in conjugate pairs (+/- imaginary part), therefore the imaginary parts cancel out when all eigenvalues are summed."
   ]
  },
  {
   "cell_type": "code",
   "execution_count": 34,
   "metadata": {},
   "outputs": [
    {
     "data": {
      "text/plain": [
       "-0.11068765529562741"
      ]
     },
     "metadata": {},
     "output_type": "display_data"
    }
   ],
   "source": [
    "det(A)"
   ]
  },
  {
   "cell_type": "code",
   "execution_count": 35,
   "metadata": {},
   "outputs": [
    {
     "data": {
      "text/plain": [
       "-0.11068765529562714 + 0.0im"
      ]
     },
     "metadata": {},
     "output_type": "display_data"
    }
   ],
   "source": [
    "prod(A_val)"
   ]
  },
  {
   "cell_type": "markdown",
   "metadata": {},
   "source": [
    "### Reduced-rank version"
   ]
  },
  {
   "cell_type": "code",
   "execution_count": 36,
   "metadata": {},
   "outputs": [
    {
     "data": {
      "text/plain": [
       "5×5 Matrix{Float64}:\n",
       " 0.276794  0.276794  0.439534  0.992859  0.457589\n",
       " 0.50222   0.50222   0.353351  0.650084  0.15874\n",
       " 0.676364  0.676364  0.749712  0.387575  0.879557\n",
       " 0.558745  0.558745  0.544807  0.933405  0.921519\n",
       " 0.125906  0.125906  0.694038  0.922294  0.0602174"
      ]
     },
     "metadata": {},
     "output_type": "display_data"
    }
   ],
   "source": [
    "# Reduce rank by duplicating first column\n",
    "A[:,2] = A[:,1];\n",
    "A"
   ]
  },
  {
   "cell_type": "code",
   "execution_count": 37,
   "metadata": {},
   "outputs": [
    {
     "data": {
      "text/plain": [
       "Eigen{ComplexF64, ComplexF64, Matrix{ComplexF64}, Vector{ComplexF64}}\n",
       "values:\n",
       "5-element Vector{ComplexF64}:\n",
       "    -0.7745206773388843 + 0.0im\n",
       " 3.4391632237099427e-16 + 0.0im\n",
       "     0.2539598101750973 - 0.16816939824603427im\n",
       "     0.2539598101750973 + 0.16816939824603427im\n",
       "     2.7889503853327238 + 0.0im\n",
       "vectors:\n",
       "5×5 Matrix{ComplexF64}:\n",
       "  -0.17498+0.0im     -0.707107+0.0im  …  -0.414519+0.0im\n",
       " -0.156535+0.0im      0.707107+0.0im     -0.354014+0.0im\n",
       "  0.492412+0.0im    4.6789e-16+0.0im      -0.51428+0.0im\n",
       "  0.359792+0.0im   -1.0051e-16+0.0im     -0.558789+0.0im\n",
       " -0.756941+0.0im  -4.22834e-16+0.0im     -0.355132+0.0im"
      ]
     },
     "metadata": {},
     "output_type": "display_data"
    }
   ],
   "source": [
    "A_val, A_vec = eigen(A)"
   ]
  },
  {
   "cell_type": "code",
   "execution_count": 38,
   "metadata": {},
   "outputs": [
    {
     "data": {
      "text/plain": [
       "2.5223493283440357"
      ]
     },
     "metadata": {},
     "output_type": "display_data"
    }
   ],
   "source": [
    "tr(A)"
   ]
  },
  {
   "cell_type": "code",
   "execution_count": 39,
   "metadata": {},
   "outputs": [
    {
     "data": {
      "text/plain": [
       "2.5223493283440344 + 0.0im"
      ]
     },
     "metadata": {},
     "output_type": "display_data"
    }
   ],
   "source": [
    "sum(A_val)"
   ]
  },
  {
   "cell_type": "code",
   "execution_count": 40,
   "metadata": {},
   "outputs": [
    {
     "data": {
      "text/plain": [
       "0.0"
      ]
     },
     "metadata": {},
     "output_type": "display_data"
    }
   ],
   "source": [
    "det(A)"
   ]
  },
  {
   "cell_type": "code",
   "execution_count": 41,
   "metadata": {},
   "outputs": [
    {
     "data": {
      "text/plain": [
       "-6.892308782445825e-17 + 4.29705844841809e-33im"
      ]
     },
     "metadata": {},
     "output_type": "display_data"
    }
   ],
   "source": [
    "prod(A_val)"
   ]
  }
 ],
 "metadata": {
  "kernelspec": {
   "display_name": "Julia 1.9.3",
   "language": "julia",
   "name": "julia-1.9"
  },
  "language_info": {
   "file_extension": ".jl",
   "mimetype": "application/julia",
   "name": "julia",
   "version": "1.9.3"
  }
 },
 "nbformat": 4,
 "nbformat_minor": 2
}
