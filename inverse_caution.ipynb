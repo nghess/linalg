{
 "cells": [
  {
   "cell_type": "code",
   "execution_count": 108,
   "metadata": {},
   "outputs": [],
   "source": [
    "using LinearAlgebra\n",
    "using Plots"
   ]
  },
  {
   "cell_type": "markdown",
   "metadata": {},
   "source": [
    "## Why matrix inversion is worth avoiding"
   ]
  },
  {
   "cell_type": "code",
   "execution_count": 109,
   "metadata": {},
   "outputs": [
    {
     "data": {
      "text/plain": [
       "condition_mat (generic function with 1 method)"
      ]
     },
     "metadata": {},
     "output_type": "display_data"
    }
   ],
   "source": [
    "# Generate a matrix with a set condition number\n",
    "\n",
    "function condition_mat(cond, dim)\n",
    "\n",
    "    # Generate orthogonal matrices\n",
    "    U = rand(dim, dim)\n",
    "    U, = qr(U)\n",
    "    V = rand(dim, dim)\n",
    "    V, = qr(V)\n",
    "\n",
    "    # Generate singular values matrix\n",
    "    E = zeros(dim, dim)\n",
    "    s_vals = range(cond, 1, length=dim)\n",
    "    for ii in 1:dim\n",
    "        E[ii, ii] = s_vals[ii]\n",
    "    end\n",
    "\n",
    "    # Compute conditioned matrix\n",
    "    M = U * E * V\n",
    "\n",
    "    # Identity matrix of the same dimension\n",
    "    identity_matrix = Matrix{Float64}(I, dim, dim)\n",
    "\n",
    "    # Calculate norm\n",
    "    return norm(M * inv(M) - identity_matrix)\n",
    "end"
   ]
  },
  {
   "cell_type": "code",
   "execution_count": 110,
   "metadata": {},
   "outputs": [],
   "source": [
    "result_sz = 200\n",
    "mat_sizes = range(2, result_sz+1, step=1);\n",
    "cond_nums = range(10, 10^12, length=result_sz);\n",
    "results = zeros(result_sz,result_sz);\n",
    "\n",
    "\n",
    "for mat in 1:result_sz\n",
    "    for cond in 1:result_sz\n",
    "        results[mat,cond] = condition_mat(cond_nums[cond], mat_sizes[mat])\n",
    "    end\n",
    "end"
   ]
  },
  {
   "cell_type": "code",
   "execution_count": null,
   "metadata": {},
   "outputs": [],
   "source": [
    "plotlyjs()\n",
    "\n",
    "p = heatmap(results, title=\"U\", color=:viridis)\n",
    "\n",
    "# Make plot nice\n",
    "plot!(p, size=(1000, 800))\n",
    "\n",
    "display(p)"
   ]
  }
 ],
 "metadata": {
  "kernelspec": {
   "display_name": "Julia 1.9.3",
   "language": "julia",
   "name": "julia-1.9"
  },
  "language_info": {
   "file_extension": ".jl",
   "mimetype": "application/julia",
   "name": "julia",
   "version": "1.9.3"
  }
 },
 "nbformat": 4,
 "nbformat_minor": 2
}
