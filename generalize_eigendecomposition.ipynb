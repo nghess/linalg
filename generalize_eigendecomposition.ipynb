{
 "cells": [
  {
   "cell_type": "code",
   "execution_count": 1092,
   "metadata": {},
   "outputs": [],
   "source": [
    "using LinearAlgebra\n",
    "using RowEchelon\n",
    "using Plots"
   ]
  },
  {
   "cell_type": "code",
   "execution_count": 1093,
   "metadata": {},
   "outputs": [
    {
     "data": {
      "text/plain": [
       "5×5 Matrix{Float64}:\n",
       " 0.722153    0.47156   0.150988  0.9966    0.721241\n",
       " 0.00197479  0.803543  0.543133  0.919352  0.544967\n",
       " 0.361652    0.344518  0.848086  0.475725  0.494888\n",
       " 0.232953    0.605542  0.45116   0.201272  0.782097\n",
       " 0.270555    0.352335  0.593914  0.509349  0.734402"
      ]
     },
     "metadata": {},
     "output_type": "display_data"
    }
   ],
   "source": [
    "m = 5\n",
    "S = rand(m,m)\n",
    "R = rand(m,m)"
   ]
  },
  {
   "cell_type": "code",
   "execution_count": 1094,
   "metadata": {},
   "outputs": [
    {
     "data": {
      "text/plain": [
       "GeneralizedEigen{ComplexF64, ComplexF64, Matrix{ComplexF64}, Vector{ComplexF64}}\n",
       "values:\n",
       "5-element Vector{ComplexF64}:\n",
       " -0.5357209717350414 + 0.0im\n",
       " 0.13403300297035337 - 0.5208139903457869im\n",
       "  0.1340330029703534 + 0.5208139903457869im\n",
       "  0.8431769087820661 + 0.0im\n",
       "   2.727783719883253 + 0.0im\n",
       "vectors:\n",
       "5×5 Matrix{ComplexF64}:\n",
       "  0.699608+0.0im   0.396713+0.603287im   …   0.665678+0.0im       -1.0+0.0im\n",
       " -0.151899+0.0im  -0.579676+0.229838im       0.923188+0.0im  -0.880637+0.0im\n",
       "   0.71378+0.0im   0.272807-0.370051im            1.0+0.0im  -0.242496+0.0im\n",
       "      -1.0+0.0im   0.535635-0.0431843im     -0.212674+0.0im   0.561856+0.0im\n",
       "  0.137766+0.0im  -0.765146+0.0971636im      0.460272+0.0im     0.9015+0.0im"
      ]
     },
     "metadata": {},
     "output_type": "display_data"
    }
   ],
   "source": [
    "E_val, E_vec = eigen(S,R)"
   ]
  },
  {
   "cell_type": "code",
   "execution_count": 1095,
   "metadata": {},
   "outputs": [
    {
     "data": {
      "text/plain": [
       "Eigen{ComplexF64, ComplexF64, Matrix{ComplexF64}, Vector{ComplexF64}}\n",
       "values:\n",
       "5-element Vector{ComplexF64}:\n",
       " -0.5357209717350399 + 0.0im\n",
       " 0.13403300297035364 - 0.5208139903457869im\n",
       " 0.13403300297035364 + 0.5208139903457869im\n",
       "  0.8431769087820659 + 0.0im\n",
       "  2.7277837198832513 + 0.0im\n",
       "vectors:\n",
       "5×5 Matrix{ComplexF64}:\n",
       "  -0.489705+0.0im  -0.224253-0.457932im  …   0.416661+0.0im  -0.580972+0.0im\n",
       "   0.106325+0.0im   0.426546-0.109446im      0.577841+0.0im  -0.511626+0.0im\n",
       "  -0.499625+0.0im  -0.224039+0.234974im       0.62592+0.0im  -0.140884+0.0im\n",
       "   0.699971+0.0im  -0.379087-0.017398im     -0.133117+0.0im   0.326423+0.0im\n",
       " -0.0964319+0.0im   0.544676-0.0im           0.288093+0.0im   0.523746+0.0im"
      ]
     },
     "metadata": {},
     "output_type": "display_data"
    }
   ],
   "source": [
    "E_val, E_vec = eigen(inv(R)*S)"
   ]
  },
  {
   "cell_type": "markdown",
   "metadata": {},
   "source": [
    "^ Eigenvalues are identical, but vectors are scaled slightly differently. I *think* this is related to inaccuracy in the computation of inv(). Trying a version with integer values below."
   ]
  },
  {
   "cell_type": "code",
   "execution_count": 1096,
   "metadata": {},
   "outputs": [
    {
     "data": {
      "text/plain": [
       "2×2 Matrix{Float64}:\n",
       " 2.93511   0.363455\n",
       " 0.780364  6.13672"
      ]
     },
     "metadata": {},
     "output_type": "display_data"
    }
   ],
   "source": [
    "m = 2\n",
    "S = rand(m,m)*10\n",
    "R = rand(m,m)*10"
   ]
  },
  {
   "cell_type": "markdown",
   "metadata": {},
   "source": [
    "To get well-behaved reconstruction:\n",
    "\n",
    "S = [7.0 6.0; 6.0 5.0]\n",
    "\n",
    "R = [9.0 1.0; 5.0 4.0]"
   ]
  },
  {
   "cell_type": "code",
   "execution_count": 1097,
   "metadata": {},
   "outputs": [
    {
     "data": {
      "text/plain": [
       "GeneralizedEigen{Float64, Float64, Matrix{Float64}, Vector{Float64}}\n",
       "values:\n",
       "2-element Vector{Float64}:\n",
       " -1.6164235956548032\n",
       "  2.6892906119134308\n",
       "vectors:\n",
       "2×2 Matrix{Float64}:\n",
       " -1.0       1.0\n",
       "  0.647291  0.692798"
      ]
     },
     "metadata": {},
     "output_type": "display_data"
    }
   ],
   "source": [
    "E_val, E_vec = eigen(S,R)"
   ]
  },
  {
   "cell_type": "code",
   "execution_count": 1098,
   "metadata": {},
   "outputs": [
    {
     "data": {
      "text/plain": [
       "Eigen{Float64, Float64, Matrix{Float64}, Vector{Float64}}\n",
       "values:\n",
       "2-element Vector{Float64}:\n",
       " -1.6164235956548034\n",
       "  2.6892906119134303\n",
       "vectors:\n",
       "2×2 Matrix{Float64}:\n",
       " -0.839481  -0.822004\n",
       "  0.543388  -0.569482"
      ]
     },
     "metadata": {},
     "output_type": "display_data"
    }
   ],
   "source": [
    "E_val_i, E_vec_i = eigen(inv(R)*S)"
   ]
  },
  {
   "cell_type": "markdown",
   "metadata": {},
   "source": [
    "Interesting. However might be fine because relative contribution remains the same. Let's check below by trying to reconstruct the matrices via eigenlayers."
   ]
  },
  {
   "cell_type": "code",
   "execution_count": 1099,
   "metadata": {},
   "outputs": [
    {
     "data": {
      "text/plain": [
       "1.1912116154609873"
      ]
     },
     "metadata": {},
     "output_type": "display_data"
    }
   ],
   "source": [
    "norm = sqrt(E_vec[:,1]'E_vec[:,1])"
   ]
  },
  {
   "cell_type": "code",
   "execution_count": 1100,
   "metadata": {},
   "outputs": [
    {
     "data": {
      "text/plain": [
       "1.0"
      ]
     },
     "metadata": {},
     "output_type": "display_data"
    }
   ],
   "source": [
    "norm_i = sqrt(E_vec_i[:,1]'E_vec_i[:,1])"
   ]
  },
  {
   "cell_type": "markdown",
   "metadata": {},
   "source": [
    "The eigenvectors from eigen(S,R) are not normalized. Normalizing them below:"
   ]
  },
  {
   "cell_type": "code",
   "execution_count": 1101,
   "metadata": {},
   "outputs": [],
   "source": [
    "for ii in 1:m\n",
    "    norm = sqrt(E_vec[:,ii]'E_vec[:,ii])\n",
    "    E_vec[:,ii] ./= norm \n",
    "end"
   ]
  },
  {
   "cell_type": "code",
   "execution_count": 1102,
   "metadata": {},
   "outputs": [
    {
     "data": {
      "text/plain": [
       "1.0"
      ]
     },
     "metadata": {},
     "output_type": "display_data"
    }
   ],
   "source": [
    "norm = sqrt(E_vec[:,1]'E_vec[:,1])"
   ]
  },
  {
   "cell_type": "code",
   "execution_count": 1103,
   "metadata": {},
   "outputs": [],
   "source": [
    "rebuild = zeros(m,m)\n",
    "\n",
    "for ii in 1:m\n",
    "    rebuild += E_vec[:,ii] .* E_val[ii] * E_vec[:,ii]'\n",
    "end"
   ]
  },
  {
   "cell_type": "code",
   "execution_count": 1104,
   "metadata": {},
   "outputs": [],
   "source": [
    "rebuild_i = zeros(m,m)\n",
    "\n",
    "for ii in 1:m\n",
    "    rebuild_i += E_vec_i[:,ii] .* E_val_i[ii] * E_vec_i[:,ii]'\n",
    "end"
   ]
  },
  {
   "cell_type": "code",
   "execution_count": 1105,
   "metadata": {},
   "outputs": [
    {
     "data": {
      "text/plain": [
       "2×2 Matrix{Float64}:\n",
       " 0.677986  1.99626\n",
       " 1.99626   0.394881"
      ]
     },
     "metadata": {},
     "output_type": "display_data"
    }
   ],
   "source": [
    "real(rebuild)"
   ]
  },
  {
   "cell_type": "code",
   "execution_count": 1106,
   "metadata": {},
   "outputs": [
    {
     "data": {
      "text/plain": [
       "2×2 Matrix{Float64}:\n",
       " 0.677986  1.99626\n",
       " 1.99626   0.394881"
      ]
     },
     "metadata": {},
     "output_type": "display_data"
    }
   ],
   "source": [
    "real(rebuild_i)"
   ]
  },
  {
   "cell_type": "code",
   "execution_count": 1107,
   "metadata": {},
   "outputs": [
    {
     "data": {
      "text/plain": [
       "2×2 Matrix{Float64}:\n",
       " 0.463326  3.21301\n",
       " 1.44085   0.609541"
      ]
     },
     "metadata": {},
     "output_type": "display_data"
    }
   ],
   "source": [
    "inv(R)*S"
   ]
  },
  {
   "cell_type": "code",
   "execution_count": 1108,
   "metadata": {},
   "outputs": [
    {
     "data": {
      "text/plain": [
       "2×2 Matrix{Float64}:\n",
       " 0.683386  1.60952\n",
       " 0.721774  1.54361"
      ]
     },
     "metadata": {},
     "output_type": "display_data"
    }
   ],
   "source": [
    "inv(R)*S ./ rebuild"
   ]
  },
  {
   "cell_type": "markdown",
   "metadata": {},
   "source": [
    "Hooray!\n",
    "\n",
    "The discrepancy was simply due to the fact that generalized eigendecomposition in Julia doesn't return unit length eigenvectors. <- This is wrong I think>"
   ]
  }
 ],
 "metadata": {
  "kernelspec": {
   "display_name": "Julia 1.9.3",
   "language": "julia",
   "name": "julia-1.9"
  },
  "language_info": {
   "file_extension": ".jl",
   "mimetype": "application/julia",
   "name": "julia",
   "version": "1.9.3"
  }
 },
 "nbformat": 4,
 "nbformat_minor": 2
}
