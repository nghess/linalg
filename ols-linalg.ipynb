{
 "cells": [
  {
   "cell_type": "code",
   "execution_count": 2,
   "metadata": {},
   "outputs": [],
   "source": [
    "using LinearAlgebra"
   ]
  },
  {
   "cell_type": "code",
   "execution_count": 3,
   "metadata": {},
   "outputs": [],
   "source": [
    "# Generate Data\n",
    "m = 10;\n",
    "n = 3;\n",
    "X = randn(m,n);\n",
    "y = randn(m,1);"
   ]
  },
  {
   "cell_type": "code",
   "execution_count": 4,
   "metadata": {},
   "outputs": [
    {
     "data": {
      "text/plain": [
       "LinearAlgebra.QRCompactWY{Float64, Matrix{Float64}, Matrix{Float64}}\n",
       "Q factor:\n",
       "10×10 LinearAlgebra.QRCompactWYQ{Float64, Matrix{Float64}, Matrix{Float64}}:\n",
       " -0.188252    0.233279    0.203356   …   0.224919   -0.144856    0.0695611\n",
       " -0.157872   -0.0258999  -0.248564      -0.806199   -0.246816    0.160103\n",
       "  0.183092   -0.14015    -0.327934       0.119702   -0.783853   -0.178668\n",
       " -0.514023    0.221279   -0.012271       0.217068   -0.11801    -0.00604642\n",
       " -0.345401   -0.125048   -0.0429028     -0.0775363  -0.115569    0.0402987\n",
       "  0.546805   -0.179172    0.123822   …  -0.204366    0.196978    0.012249\n",
       "  0.403642    0.281189   -0.359694       0.280466   -0.110632   -0.130467\n",
       " -0.0997558  -0.848466    0.0275232      0.288019   -0.0528756   0.163848\n",
       " -0.17862    -0.0866971  -0.784916       0.08368     0.468135   -0.0850369\n",
       "  0.137165    0.148615   -0.160526       0.147007   -0.0583549   0.940583\n",
       "R factor:\n",
       "3×3 Matrix{Float64}:\n",
       " -4.36691  0.28409  -2.13838\n",
       "  0.0      2.54248  -0.510307\n",
       "  0.0      0.0      -2.78473"
      ]
     },
     "metadata": {},
     "output_type": "display_data"
    }
   ],
   "source": [
    "F = qr(X)"
   ]
  },
  {
   "cell_type": "code",
   "execution_count": null,
   "metadata": {},
   "outputs": [],
   "source": []
  }
 ],
 "metadata": {
  "kernelspec": {
   "display_name": "Julia 1.9.3",
   "language": "julia",
   "name": "julia-1.9"
  },
  "language_info": {
   "file_extension": ".jl",
   "mimetype": "application/julia",
   "name": "julia",
   "version": "1.9.3"
  }
 },
 "nbformat": 4,
 "nbformat_minor": 2
}
